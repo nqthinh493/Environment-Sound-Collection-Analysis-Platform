{
 "cells": [
  {
   "cell_type": "code",
   "execution_count": null,
   "metadata": {},
   "outputs": [],
   "source": [
    "\n",
    "#import the pyplot and wavfile modules \n",
    "\n",
    "import matplotlib.pyplot as plot\n",
    "\n",
    "from scipy.io import wavfile\n",
    "\n",
    " \n",
    "\n",
    "# Read the wav file (mono)\n",
    "\n",
    "samplingFrequency, signalData = wavfile.read('/home/thanhho/SPARC/ESCA/Code/Data/dev_data_fan/fan/source_test/Anomaly/section_00_source_test_anomaly_0021.wav')\n",
    "\n",
    " \n",
    "\n",
    "# Plot the signal read from wav file\n",
    "\n",
    "plot.subplot(211)\n",
    "\n",
    "plot.title('Spectrogram of a wav file with piano music')\n",
    "\n",
    " \n",
    "\n",
    "plot.plot(signalData)\n",
    "\n",
    "plot.xlabel('Sample')\n",
    "\n",
    "plot.ylabel('Amplitude')\n",
    "\n",
    " \n",
    "\n",
    "plot.subplot(212)\n",
    "\n",
    "plot.specgram(signalData,Fs=samplingFrequency)\n",
    "\n",
    "plot.xlabel('Time')\n",
    "\n",
    "plot.ylabel('Frequency')\n",
    "\n",
    " \n",
    "\n",
    "plot.show()"
   ]
  }
 ],
 "metadata": {
  "kernelspec": {
   "display_name": "ESCA_TF_2.7.0",
   "language": "python",
   "name": "python3"
  },
  "language_info": {
   "codemirror_mode": {
    "name": "ipython",
    "version": 3
   },
   "file_extension": ".py",
   "mimetype": "text/x-python",
   "name": "python",
   "nbconvert_exporter": "python",
   "pygments_lexer": "ipython3",
   "version": "3.9.15 | packaged by conda-forge | (main, Nov 22 2022, 08:41:22) [MSC v.1929 64 bit (AMD64)]"
  },
  "vscode": {
   "interpreter": {
    "hash": "7cc84cb333cc26d7caa7e7e4124c6c22d4f6a5c7a03c4531258b5f03769a36f8"
   }
  }
 },
 "nbformat": 4,
 "nbformat_minor": 4
}
